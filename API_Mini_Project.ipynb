{
 "cells": [
  {
   "cell_type": "code",
   "execution_count": 1,
   "metadata": {},
   "outputs": [],
   "source": [
    "# Store the API key as a string - according to PEP8, constants are always named in all upper case\n",
    "API_KEY = 'QrCXib4uMUgqyvzhQHyQ'"
   ]
  },
  {
   "cell_type": "code",
   "execution_count": 2,
   "metadata": {},
   "outputs": [],
   "source": [
    "# First, import the relevant modules\n",
    "import requests\n",
    "import collections"
   ]
  },
  {
   "cell_type": "markdown",
   "metadata": {},
   "source": [
    "### 1. Collect data from the Frankfurt Stock Exchange, for the ticker AFX_X, for the whole year 2017 (keep in mind that the date format is YYYY-MM-DD)."
   ]
  },
  {
   "cell_type": "code",
   "execution_count": 3,
   "metadata": {},
   "outputs": [],
   "source": [
    "r = requests.get('https://www.quandl.com/api/v3/datasets/FSE/AFX_X?start_date=2017-01-01&end_date=2017-12-31&api_key=QrCXib4uMUgqyvzhQHyQ')"
   ]
  },
  {
   "cell_type": "markdown",
   "metadata": {},
   "source": [
    "### 2. Convert the returned JSON object into a Python dictionary."
   ]
  },
  {
   "cell_type": "code",
   "execution_count": 4,
   "metadata": {},
   "outputs": [],
   "source": [
    "df = r.json()"
   ]
  },
  {
   "cell_type": "markdown",
   "metadata": {},
   "source": [
    "Creating a function to centralize extracting of data"
   ]
  },
  {
   "cell_type": "code",
   "execution_count": 6,
   "metadata": {},
   "outputs": [],
   "source": [
    "def create_list(col, data = df['dataset']['data']):\n",
    "    \"\"\" Extracting specified column data from 'data' \"\"\"\n",
    "    col_data = [day[col] for day in data if day[col] is not None]\n",
    "    return col_data"
   ]
  },
  {
   "cell_type": "markdown",
   "metadata": {},
   "source": [
    "### 3. Calculate what the highest and lowest opening prices were for the stock in this period."
   ]
  },
  {
   "cell_type": "code",
   "execution_count": 7,
   "metadata": {},
   "outputs": [
    {
     "name": "stdout",
     "output_type": "stream",
     "text": [
      "The highest opening price is: $53.11\n",
      "The lowest opening price is: $34.00\n"
     ]
    }
   ],
   "source": [
    "opening_prices = create_list(1)\n",
    "opening_prices.sort()\n",
    "\n",
    "print('The highest opening price is: $' + '%.2f' % opening_prices[-1])\n",
    "print('The lowest opening price is: $' + '%.2f' % opening_prices[0])"
   ]
  },
  {
   "cell_type": "markdown",
   "metadata": {},
   "source": [
    "### 4. What was the largest change in any one day (based on High and Low price)?"
   ]
  },
  {
   "cell_type": "code",
   "execution_count": 8,
   "metadata": {},
   "outputs": [
    {
     "name": "stdout",
     "output_type": "stream",
     "text": [
      "The largest daily change is: $2.81\n"
     ]
    }
   ],
   "source": [
    "daily_high_price = create_list(2)\n",
    "daily_low_price = create_list(3)\n",
    "\n",
    "largest_change = max([h - l for h, l in zip(daily_high_price, daily_low_price)])\n",
    "print('The largest daily change is: $' + '%.2f' % largest_change)"
   ]
  },
  {
   "cell_type": "markdown",
   "metadata": {},
   "source": [
    "### 5. What was the largest change between any two days (based on Closing Price)?"
   ]
  },
  {
   "cell_type": "code",
   "execution_count": 9,
   "metadata": {},
   "outputs": [
    {
     "name": "stdout",
     "output_type": "stream",
     "text": [
      "The largest change between any two days is: $2.56\n"
     ]
    }
   ],
   "source": [
    "data = df['dataset']['data']\n",
    "diff = [abs(data[x][4] - data[x+1][4]) for x in range(len(data)) if x+1 < len(data)]\n",
    "diff.sort()\n",
    "print('The largest change between any two days is: $' + '%.2f' % max(diff))"
   ]
  },
  {
   "cell_type": "markdown",
   "metadata": {},
   "source": [
    "### 6. What was the average daily trading volume during this year?"
   ]
  },
  {
   "cell_type": "code",
   "execution_count": 10,
   "metadata": {},
   "outputs": [
    {
     "name": "stdout",
     "output_type": "stream",
     "text": [
      "The average daily trading volume in 2017 is: $89124.34\n"
     ]
    }
   ],
   "source": [
    "traded_volumes = create_list(6)\n",
    "\n",
    "avg = sum(traded_volumes) / len(traded_volumes)\n",
    "print('The average daily trading volume in 2017 is: $' + '%.2f' % avg)"
   ]
  },
  {
   "cell_type": "markdown",
   "metadata": {},
   "source": [
    "### 7. (Optional) What was the median trading volume during this year. (Note: you may need to implement your own function for calculating the median.)"
   ]
  },
  {
   "cell_type": "code",
   "execution_count": 11,
   "metadata": {},
   "outputs": [
    {
     "name": "stdout",
     "output_type": "stream",
     "text": [
      "The median trading volume for 2017 is: $76286.00\n"
     ]
    }
   ],
   "source": [
    "traded_volumes.sort()\n",
    "traded_volumes\n",
    "\n",
    "if len(traded_volumes)%2 == 0:\n",
    "    print('No median.')\n",
    "else:\n",
    "    median_index = len(traded_volumes)/2\n",
    "    median_index = int(median_index)\n",
    "\n",
    "print('The median trading volume for 2017 is: $' + '%.2f' % traded_volumes[median_index])"
   ]
  }
 ],
 "metadata": {
  "kernelspec": {
   "display_name": "Python 3",
   "language": "python",
   "name": "python3"
  },
  "language_info": {
   "codemirror_mode": {
    "name": "ipython",
    "version": 3
   },
   "file_extension": ".py",
   "mimetype": "text/x-python",
   "name": "python",
   "nbconvert_exporter": "python",
   "pygments_lexer": "ipython3",
   "version": "3.6.6"
  }
 },
 "nbformat": 4,
 "nbformat_minor": 2
}
