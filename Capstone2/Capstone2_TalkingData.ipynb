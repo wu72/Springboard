{
 "cells": [
  {
   "cell_type": "code",
   "execution_count": 1,
   "metadata": {},
   "outputs": [],
   "source": [
    "from mpl_toolkits.basemap import Basemap\n",
    "from pycm import ConfusionMatrix\n",
    "from scipy import stats\n",
    "from sklearn import metrics\n",
    "from sklearn.ensemble import RandomForestClassifier\n",
    "from sklearn.feature_extraction import FeatureHasher\n",
    "from sklearn.metrics import f1_score\n",
    "from sklearn.model_selection import train_test_split\n",
    "from sklearn.preprocessing import OneHotEncoder\n",
    "import dask.dataframe as dd\n",
    "import matplotlib as mpl\n",
    "import matplotlib.pyplot as plt\n",
    "import pandas as pd\n",
    "import seaborn as sns\n",
    "import scipy.stats as stats\n",
    "\n",
    "def warn(*args, **kwargs):\n",
    "    pass\n",
    "import warnings\n",
    "warnings.warn = warn\n",
    "\n",
    "sns.set()"
   ]
  },
  {
   "cell_type": "code",
   "execution_count": 2,
   "metadata": {},
   "outputs": [],
   "source": [
    "app_events = dd.read_csv('talkingdata/app_events.csv')\n",
    "app_labels = dd.read_csv('talkingdata/app_labels.csv')\n",
    "events = dd.read_csv('talkingdata/events.csv')\n",
    "train = dd.read_csv('talkingdata/gender_age_train.csv')\n",
    "label_categories = dd.read_csv('talkingdata/label_categories.csv')\n",
    "phone_brand_model = dd.read_csv('talkingdata/phone_brand_device_model.csv')"
   ]
  },
  {
   "cell_type": "markdown",
   "metadata": {},
   "source": [
    "### Preview of datasets"
   ]
  },
  {
   "cell_type": "code",
   "execution_count": 3,
   "metadata": {},
   "outputs": [
    {
     "data": {
      "text/html": [
       "<div>\n",
       "<style scoped>\n",
       "    .dataframe tbody tr th:only-of-type {\n",
       "        vertical-align: middle;\n",
       "    }\n",
       "\n",
       "    .dataframe tbody tr th {\n",
       "        vertical-align: top;\n",
       "    }\n",
       "\n",
       "    .dataframe thead th {\n",
       "        text-align: right;\n",
       "    }\n",
       "</style>\n",
       "<table border=\"1\" class=\"dataframe\">\n",
       "  <thead>\n",
       "    <tr style=\"text-align: right;\">\n",
       "      <th></th>\n",
       "      <th>event_id</th>\n",
       "      <th>app_id</th>\n",
       "      <th>is_installed</th>\n",
       "      <th>is_active</th>\n",
       "    </tr>\n",
       "  </thead>\n",
       "  <tbody>\n",
       "    <tr>\n",
       "      <th>0</th>\n",
       "      <td>2</td>\n",
       "      <td>5927333115845830913</td>\n",
       "      <td>1</td>\n",
       "      <td>1</td>\n",
       "    </tr>\n",
       "    <tr>\n",
       "      <th>1</th>\n",
       "      <td>2</td>\n",
       "      <td>-5720078949152207372</td>\n",
       "      <td>1</td>\n",
       "      <td>0</td>\n",
       "    </tr>\n",
       "    <tr>\n",
       "      <th>2</th>\n",
       "      <td>2</td>\n",
       "      <td>-1633887856876571208</td>\n",
       "      <td>1</td>\n",
       "      <td>0</td>\n",
       "    </tr>\n",
       "    <tr>\n",
       "      <th>3</th>\n",
       "      <td>2</td>\n",
       "      <td>-653184325010919369</td>\n",
       "      <td>1</td>\n",
       "      <td>1</td>\n",
       "    </tr>\n",
       "    <tr>\n",
       "      <th>4</th>\n",
       "      <td>2</td>\n",
       "      <td>8693964245073640147</td>\n",
       "      <td>1</td>\n",
       "      <td>1</td>\n",
       "    </tr>\n",
       "  </tbody>\n",
       "</table>\n",
       "</div>"
      ],
      "text/plain": [
       "   event_id               app_id  is_installed  is_active\n",
       "0         2  5927333115845830913             1          1\n",
       "1         2 -5720078949152207372             1          0\n",
       "2         2 -1633887856876571208             1          0\n",
       "3         2  -653184325010919369             1          1\n",
       "4         2  8693964245073640147             1          1"
      ]
     },
     "execution_count": 3,
     "metadata": {},
     "output_type": "execute_result"
    }
   ],
   "source": [
    "app_events.head()"
   ]
  },
  {
   "cell_type": "code",
   "execution_count": 4,
   "metadata": {},
   "outputs": [
    {
     "data": {
      "text/html": [
       "<div>\n",
       "<style scoped>\n",
       "    .dataframe tbody tr th:only-of-type {\n",
       "        vertical-align: middle;\n",
       "    }\n",
       "\n",
       "    .dataframe tbody tr th {\n",
       "        vertical-align: top;\n",
       "    }\n",
       "\n",
       "    .dataframe thead th {\n",
       "        text-align: right;\n",
       "    }\n",
       "</style>\n",
       "<table border=\"1\" class=\"dataframe\">\n",
       "  <thead>\n",
       "    <tr style=\"text-align: right;\">\n",
       "      <th></th>\n",
       "      <th>app_id</th>\n",
       "      <th>label_id</th>\n",
       "    </tr>\n",
       "  </thead>\n",
       "  <tbody>\n",
       "    <tr>\n",
       "      <th>0</th>\n",
       "      <td>7324884708820027918</td>\n",
       "      <td>251</td>\n",
       "    </tr>\n",
       "    <tr>\n",
       "      <th>1</th>\n",
       "      <td>-4494216993218550286</td>\n",
       "      <td>251</td>\n",
       "    </tr>\n",
       "    <tr>\n",
       "      <th>2</th>\n",
       "      <td>6058196446775239644</td>\n",
       "      <td>406</td>\n",
       "    </tr>\n",
       "    <tr>\n",
       "      <th>3</th>\n",
       "      <td>6058196446775239644</td>\n",
       "      <td>407</td>\n",
       "    </tr>\n",
       "    <tr>\n",
       "      <th>4</th>\n",
       "      <td>8694625920731541625</td>\n",
       "      <td>406</td>\n",
       "    </tr>\n",
       "  </tbody>\n",
       "</table>\n",
       "</div>"
      ],
      "text/plain": [
       "                app_id  label_id\n",
       "0  7324884708820027918       251\n",
       "1 -4494216993218550286       251\n",
       "2  6058196446775239644       406\n",
       "3  6058196446775239644       407\n",
       "4  8694625920731541625       406"
      ]
     },
     "execution_count": 4,
     "metadata": {},
     "output_type": "execute_result"
    }
   ],
   "source": [
    "app_labels.head()"
   ]
  },
  {
   "cell_type": "code",
   "execution_count": 5,
   "metadata": {},
   "outputs": [
    {
     "data": {
      "text/html": [
       "<div>\n",
       "<style scoped>\n",
       "    .dataframe tbody tr th:only-of-type {\n",
       "        vertical-align: middle;\n",
       "    }\n",
       "\n",
       "    .dataframe tbody tr th {\n",
       "        vertical-align: top;\n",
       "    }\n",
       "\n",
       "    .dataframe thead th {\n",
       "        text-align: right;\n",
       "    }\n",
       "</style>\n",
       "<table border=\"1\" class=\"dataframe\">\n",
       "  <thead>\n",
       "    <tr style=\"text-align: right;\">\n",
       "      <th></th>\n",
       "      <th>event_id</th>\n",
       "      <th>device_id</th>\n",
       "      <th>timestamp</th>\n",
       "      <th>longitude</th>\n",
       "      <th>latitude</th>\n",
       "    </tr>\n",
       "  </thead>\n",
       "  <tbody>\n",
       "    <tr>\n",
       "      <th>0</th>\n",
       "      <td>1</td>\n",
       "      <td>29182687948017175</td>\n",
       "      <td>2016-05-01 00:55:25</td>\n",
       "      <td>121.38</td>\n",
       "      <td>31.24</td>\n",
       "    </tr>\n",
       "    <tr>\n",
       "      <th>1</th>\n",
       "      <td>2</td>\n",
       "      <td>-6401643145415154744</td>\n",
       "      <td>2016-05-01 00:54:12</td>\n",
       "      <td>103.65</td>\n",
       "      <td>30.97</td>\n",
       "    </tr>\n",
       "    <tr>\n",
       "      <th>2</th>\n",
       "      <td>3</td>\n",
       "      <td>-4833982096941402721</td>\n",
       "      <td>2016-05-01 00:08:05</td>\n",
       "      <td>106.60</td>\n",
       "      <td>29.70</td>\n",
       "    </tr>\n",
       "    <tr>\n",
       "      <th>3</th>\n",
       "      <td>4</td>\n",
       "      <td>-6815121365017318426</td>\n",
       "      <td>2016-05-01 00:06:40</td>\n",
       "      <td>104.27</td>\n",
       "      <td>23.28</td>\n",
       "    </tr>\n",
       "    <tr>\n",
       "      <th>4</th>\n",
       "      <td>5</td>\n",
       "      <td>-5373797595892518570</td>\n",
       "      <td>2016-05-01 00:07:18</td>\n",
       "      <td>115.88</td>\n",
       "      <td>28.66</td>\n",
       "    </tr>\n",
       "  </tbody>\n",
       "</table>\n",
       "</div>"
      ],
      "text/plain": [
       "   event_id            device_id            timestamp  longitude  latitude\n",
       "0         1    29182687948017175  2016-05-01 00:55:25     121.38     31.24\n",
       "1         2 -6401643145415154744  2016-05-01 00:54:12     103.65     30.97\n",
       "2         3 -4833982096941402721  2016-05-01 00:08:05     106.60     29.70\n",
       "3         4 -6815121365017318426  2016-05-01 00:06:40     104.27     23.28\n",
       "4         5 -5373797595892518570  2016-05-01 00:07:18     115.88     28.66"
      ]
     },
     "execution_count": 5,
     "metadata": {},
     "output_type": "execute_result"
    }
   ],
   "source": [
    "events.head()"
   ]
  },
  {
   "cell_type": "code",
   "execution_count": 6,
   "metadata": {},
   "outputs": [
    {
     "data": {
      "text/html": [
       "<div>\n",
       "<style scoped>\n",
       "    .dataframe tbody tr th:only-of-type {\n",
       "        vertical-align: middle;\n",
       "    }\n",
       "\n",
       "    .dataframe tbody tr th {\n",
       "        vertical-align: top;\n",
       "    }\n",
       "\n",
       "    .dataframe thead th {\n",
       "        text-align: right;\n",
       "    }\n",
       "</style>\n",
       "<table border=\"1\" class=\"dataframe\">\n",
       "  <thead>\n",
       "    <tr style=\"text-align: right;\">\n",
       "      <th></th>\n",
       "      <th>device_id</th>\n",
       "      <th>gender</th>\n",
       "      <th>age</th>\n",
       "      <th>group</th>\n",
       "    </tr>\n",
       "  </thead>\n",
       "  <tbody>\n",
       "    <tr>\n",
       "      <th>0</th>\n",
       "      <td>-8076087639492063270</td>\n",
       "      <td>M</td>\n",
       "      <td>35</td>\n",
       "      <td>M32-38</td>\n",
       "    </tr>\n",
       "    <tr>\n",
       "      <th>1</th>\n",
       "      <td>-2897161552818060146</td>\n",
       "      <td>M</td>\n",
       "      <td>35</td>\n",
       "      <td>M32-38</td>\n",
       "    </tr>\n",
       "    <tr>\n",
       "      <th>2</th>\n",
       "      <td>-8260683887967679142</td>\n",
       "      <td>M</td>\n",
       "      <td>35</td>\n",
       "      <td>M32-38</td>\n",
       "    </tr>\n",
       "    <tr>\n",
       "      <th>3</th>\n",
       "      <td>-4938849341048082022</td>\n",
       "      <td>M</td>\n",
       "      <td>30</td>\n",
       "      <td>M29-31</td>\n",
       "    </tr>\n",
       "    <tr>\n",
       "      <th>4</th>\n",
       "      <td>245133531816851882</td>\n",
       "      <td>M</td>\n",
       "      <td>30</td>\n",
       "      <td>M29-31</td>\n",
       "    </tr>\n",
       "  </tbody>\n",
       "</table>\n",
       "</div>"
      ],
      "text/plain": [
       "             device_id gender  age   group\n",
       "0 -8076087639492063270      M   35  M32-38\n",
       "1 -2897161552818060146      M   35  M32-38\n",
       "2 -8260683887967679142      M   35  M32-38\n",
       "3 -4938849341048082022      M   30  M29-31\n",
       "4   245133531816851882      M   30  M29-31"
      ]
     },
     "execution_count": 6,
     "metadata": {},
     "output_type": "execute_result"
    }
   ],
   "source": [
    "train.head()"
   ]
  },
  {
   "cell_type": "code",
   "execution_count": 7,
   "metadata": {},
   "outputs": [
    {
     "data": {
      "text/html": [
       "<div>\n",
       "<style scoped>\n",
       "    .dataframe tbody tr th:only-of-type {\n",
       "        vertical-align: middle;\n",
       "    }\n",
       "\n",
       "    .dataframe tbody tr th {\n",
       "        vertical-align: top;\n",
       "    }\n",
       "\n",
       "    .dataframe thead th {\n",
       "        text-align: right;\n",
       "    }\n",
       "</style>\n",
       "<table border=\"1\" class=\"dataframe\">\n",
       "  <thead>\n",
       "    <tr style=\"text-align: right;\">\n",
       "      <th></th>\n",
       "      <th>label_id</th>\n",
       "      <th>category</th>\n",
       "    </tr>\n",
       "  </thead>\n",
       "  <tbody>\n",
       "    <tr>\n",
       "      <th>0</th>\n",
       "      <td>1</td>\n",
       "      <td>NaN</td>\n",
       "    </tr>\n",
       "    <tr>\n",
       "      <th>1</th>\n",
       "      <td>2</td>\n",
       "      <td>game-game type</td>\n",
       "    </tr>\n",
       "    <tr>\n",
       "      <th>2</th>\n",
       "      <td>3</td>\n",
       "      <td>game-Game themes</td>\n",
       "    </tr>\n",
       "    <tr>\n",
       "      <th>3</th>\n",
       "      <td>4</td>\n",
       "      <td>game-Art Style</td>\n",
       "    </tr>\n",
       "    <tr>\n",
       "      <th>4</th>\n",
       "      <td>5</td>\n",
       "      <td>game-Leisure time</td>\n",
       "    </tr>\n",
       "  </tbody>\n",
       "</table>\n",
       "</div>"
      ],
      "text/plain": [
       "   label_id           category\n",
       "0         1                NaN\n",
       "1         2     game-game type\n",
       "2         3   game-Game themes\n",
       "3         4     game-Art Style\n",
       "4         5  game-Leisure time"
      ]
     },
     "execution_count": 7,
     "metadata": {},
     "output_type": "execute_result"
    }
   ],
   "source": [
    "label_categories.head()"
   ]
  },
  {
   "cell_type": "code",
   "execution_count": 8,
   "metadata": {},
   "outputs": [
    {
     "data": {
      "text/html": [
       "<div>\n",
       "<style scoped>\n",
       "    .dataframe tbody tr th:only-of-type {\n",
       "        vertical-align: middle;\n",
       "    }\n",
       "\n",
       "    .dataframe tbody tr th {\n",
       "        vertical-align: top;\n",
       "    }\n",
       "\n",
       "    .dataframe thead th {\n",
       "        text-align: right;\n",
       "    }\n",
       "</style>\n",
       "<table border=\"1\" class=\"dataframe\">\n",
       "  <thead>\n",
       "    <tr style=\"text-align: right;\">\n",
       "      <th></th>\n",
       "      <th>device_id</th>\n",
       "      <th>phone_brand</th>\n",
       "      <th>device_model</th>\n",
       "    </tr>\n",
       "  </thead>\n",
       "  <tbody>\n",
       "    <tr>\n",
       "      <th>0</th>\n",
       "      <td>-8890648629457979026</td>\n",
       "      <td>小米</td>\n",
       "      <td>红米</td>\n",
       "    </tr>\n",
       "    <tr>\n",
       "      <th>1</th>\n",
       "      <td>1277779817574759137</td>\n",
       "      <td>小米</td>\n",
       "      <td>MI 2</td>\n",
       "    </tr>\n",
       "    <tr>\n",
       "      <th>2</th>\n",
       "      <td>5137427614288105724</td>\n",
       "      <td>三星</td>\n",
       "      <td>Galaxy S4</td>\n",
       "    </tr>\n",
       "    <tr>\n",
       "      <th>3</th>\n",
       "      <td>3669464369358936369</td>\n",
       "      <td>SUGAR</td>\n",
       "      <td>时尚手机</td>\n",
       "    </tr>\n",
       "    <tr>\n",
       "      <th>4</th>\n",
       "      <td>-5019277647504317457</td>\n",
       "      <td>三星</td>\n",
       "      <td>Galaxy Note 2</td>\n",
       "    </tr>\n",
       "  </tbody>\n",
       "</table>\n",
       "</div>"
      ],
      "text/plain": [
       "             device_id phone_brand   device_model\n",
       "0 -8890648629457979026          小米             红米\n",
       "1  1277779817574759137          小米           MI 2\n",
       "2  5137427614288105724          三星      Galaxy S4\n",
       "3  3669464369358936369       SUGAR           时尚手机\n",
       "4 -5019277647504317457          三星  Galaxy Note 2"
      ]
     },
     "execution_count": 8,
     "metadata": {},
     "output_type": "execute_result"
    }
   ],
   "source": [
    "phone_brand_model.head()"
   ]
  },
  {
   "cell_type": "markdown",
   "metadata": {},
   "source": [
    "## Data wrangling"
   ]
  },
  {
   "cell_type": "markdown",
   "metadata": {},
   "source": [
    "It may be of interest to look at the number of apps each device has. Note:\n",
    "- The **phone_brand_model** table has information regarding the brand and model of each device.\n",
    "- The **events** table logs the device ID, time, and location of the device when a user uses the TalkingData SDK.\n",
    "- The **app_events** contains information of all the apps installed on a device every time a user uses the TalkingData SDK.\n",
    "\n",
    "The only way to get the total number of apps is to use the \"events_id\" from **events** as an intermediary. The steps are as follows:\n",
    "- Get each unique \"device_id\" from **events** and *only* get the first occurrence of a \"device_id\" (to avoid double counting apps)\n",
    "- Merge the above table with **app_events** to get the list of \"app_id\" for each device. The reason we only want the first occurrence of \"device_id\" in the above step is because every time a user uses an app that implements the TalkingData SDK, it creates an event in **events**. Each event corresponds to a list of apps in **app_events**, so if a user uses two apps that implements TalkingData's SDK, there will be two screenshots of the apps on the device in **app_events**. After getting the list of apps, group together by 'device_id' and count the number of apps.\n",
    "- Merge the new table with **phone_brand_model** to get: \"gender\", \"age\", \"group\", \"phone_brand\", and \"device_model\""
   ]
  },
  {
   "cell_type": "code",
   "execution_count": 9,
   "metadata": {},
   "outputs": [
    {
     "data": {
      "text/html": [
       "<div>\n",
       "<style scoped>\n",
       "    .dataframe tbody tr th:only-of-type {\n",
       "        vertical-align: middle;\n",
       "    }\n",
       "\n",
       "    .dataframe tbody tr th {\n",
       "        vertical-align: top;\n",
       "    }\n",
       "\n",
       "    .dataframe thead th {\n",
       "        text-align: right;\n",
       "    }\n",
       "</style>\n",
       "<table border=\"1\" class=\"dataframe\">\n",
       "  <thead>\n",
       "    <tr style=\"text-align: right;\">\n",
       "      <th></th>\n",
       "      <th>device_id</th>\n",
       "      <th>app_count</th>\n",
       "      <th>phone_brand</th>\n",
       "      <th>device_model</th>\n",
       "    </tr>\n",
       "  </thead>\n",
       "  <tbody>\n",
       "    <tr>\n",
       "      <th>0</th>\n",
       "      <td>-9222956879900151005</td>\n",
       "      <td>68</td>\n",
       "      <td>三星</td>\n",
       "      <td>Galaxy Note 2</td>\n",
       "    </tr>\n",
       "    <tr>\n",
       "      <th>1</th>\n",
       "      <td>-9222661944218806987</td>\n",
       "      <td>10</td>\n",
       "      <td>vivo</td>\n",
       "      <td>Y913</td>\n",
       "    </tr>\n",
       "    <tr>\n",
       "      <th>2</th>\n",
       "      <td>-9222399302879214035</td>\n",
       "      <td>43</td>\n",
       "      <td>小米</td>\n",
       "      <td>MI 3</td>\n",
       "    </tr>\n",
       "    <tr>\n",
       "      <th>3</th>\n",
       "      <td>-9221767098072603291</td>\n",
       "      <td>25</td>\n",
       "      <td>金立</td>\n",
       "      <td>GN151</td>\n",
       "    </tr>\n",
       "    <tr>\n",
       "      <th>4</th>\n",
       "      <td>-9221079146476055829</td>\n",
       "      <td>12</td>\n",
       "      <td>小米</td>\n",
       "      <td>MI 3</td>\n",
       "    </tr>\n",
       "  </tbody>\n",
       "</table>\n",
       "</div>"
      ],
      "text/plain": [
       "             device_id  app_count phone_brand   device_model\n",
       "0 -9222956879900151005         68          三星  Galaxy Note 2\n",
       "1 -9222661944218806987         10        vivo           Y913\n",
       "2 -9222399302879214035         43          小米           MI 3\n",
       "3 -9221767098072603291         25          金立          GN151\n",
       "4 -9221079146476055829         12          小米           MI 3"
      ]
     },
     "execution_count": 9,
     "metadata": {},
     "output_type": "execute_result"
    }
   ],
   "source": [
    "# ---------------------------------------------------------------------\n",
    "# CREATE NEW DATAFRAME THAT CONTAINS TOTAL NUMBER OF APPS PER DEVICE  |\n",
    "# --------------------------------------------------------------------\n",
    "\n",
    "num_apps = events.groupby('device_id').first().reset_index().compute()\n",
    "num_apps = dd.merge(num_apps, app_events[['event_id', 'app_id']], on = 'event_id').compute()\n",
    "\n",
    "num_apps = num_apps.groupby('device_id')['app_id'].count().reset_index()\n",
    "num_apps = dd.merge(num_apps, phone_brand_model, on = 'device_id', how = 'inner') \n",
    "\n",
    "num_apps = num_apps.rename(columns={'app_id': 'app_count'})\n",
    "\n",
    "num_apps.head()"
   ]
  },
  {
   "cell_type": "code",
   "execution_count": 10,
   "metadata": {},
   "outputs": [
    {
     "data": {
      "text/html": [
       "<div>\n",
       "<style scoped>\n",
       "    .dataframe tbody tr th:only-of-type {\n",
       "        vertical-align: middle;\n",
       "    }\n",
       "\n",
       "    .dataframe tbody tr th {\n",
       "        vertical-align: top;\n",
       "    }\n",
       "\n",
       "    .dataframe thead th {\n",
       "        text-align: right;\n",
       "    }\n",
       "</style>\n",
       "<table border=\"1\" class=\"dataframe\">\n",
       "  <thead>\n",
       "    <tr style=\"text-align: right;\">\n",
       "      <th></th>\n",
       "      <th>device_id</th>\n",
       "      <th>gender</th>\n",
       "      <th>age</th>\n",
       "      <th>group</th>\n",
       "      <th>app_count</th>\n",
       "      <th>phone_brand</th>\n",
       "      <th>device_model</th>\n",
       "    </tr>\n",
       "  </thead>\n",
       "  <tbody>\n",
       "    <tr>\n",
       "      <th>0</th>\n",
       "      <td>-8260683887967679142</td>\n",
       "      <td>M</td>\n",
       "      <td>35</td>\n",
       "      <td>M32-38</td>\n",
       "      <td>53</td>\n",
       "      <td>小米</td>\n",
       "      <td>MI 2</td>\n",
       "    </tr>\n",
       "    <tr>\n",
       "      <th>1</th>\n",
       "      <td>7477216237379271436</td>\n",
       "      <td>F</td>\n",
       "      <td>37</td>\n",
       "      <td>F33-42</td>\n",
       "      <td>26</td>\n",
       "      <td>华为</td>\n",
       "      <td>荣耀6 plus</td>\n",
       "    </tr>\n",
       "    <tr>\n",
       "      <th>2</th>\n",
       "      <td>6352067998666467520</td>\n",
       "      <td>M</td>\n",
       "      <td>32</td>\n",
       "      <td>M32-38</td>\n",
       "      <td>19</td>\n",
       "      <td>华为</td>\n",
       "      <td>荣耀畅玩4X</td>\n",
       "    </tr>\n",
       "    <tr>\n",
       "      <th>3</th>\n",
       "      <td>8026504930081700361</td>\n",
       "      <td>M</td>\n",
       "      <td>25</td>\n",
       "      <td>M23-26</td>\n",
       "      <td>31</td>\n",
       "      <td>小米</td>\n",
       "      <td>MI 4</td>\n",
       "    </tr>\n",
       "    <tr>\n",
       "      <th>4</th>\n",
       "      <td>-7271319853104672050</td>\n",
       "      <td>M</td>\n",
       "      <td>27</td>\n",
       "      <td>M27-28</td>\n",
       "      <td>34</td>\n",
       "      <td>三星</td>\n",
       "      <td>Galaxy Note 3</td>\n",
       "    </tr>\n",
       "  </tbody>\n",
       "</table>\n",
       "</div>"
      ],
      "text/plain": [
       "             device_id gender  age   group  app_count phone_brand  \\\n",
       "0 -8260683887967679142      M   35  M32-38         53          小米   \n",
       "1  7477216237379271436      F   37  F33-42         26          华为   \n",
       "2  6352067998666467520      M   32  M32-38         19          华为   \n",
       "3  8026504930081700361      M   25  M23-26         31          小米   \n",
       "4 -7271319853104672050      M   27  M27-28         34          三星   \n",
       "\n",
       "    device_model  \n",
       "0           MI 2  \n",
       "1       荣耀6 plus  \n",
       "2         荣耀畅玩4X  \n",
       "3           MI 4  \n",
       "4  Galaxy Note 3  "
      ]
     },
     "execution_count": 10,
     "metadata": {},
     "output_type": "execute_result"
    }
   ],
   "source": [
    "# ------------------------------------------------------------------------------\n",
    "# CREATE ANOTHER DATAFRAME WITH GENDER INFO (GET FROM TRAINING SET DATAFRAME)  |\n",
    "# -----------------------------------------------------------------------------\n",
    "\n",
    "gender_info = dd.merge(train, num_apps, on = 'device_id', how = 'inner')\n",
    "gender_info = gender_info.rename(columns={'index': 'device_id'}).compute()\n",
    "\n",
    "gender_info.head()"
   ]
  },
  {
   "cell_type": "markdown",
   "metadata": {},
   "source": [
    "## Data storytelling & visualizations"
   ]
  },
  {
   "cell_type": "code",
   "execution_count": 11,
   "metadata": {},
   "outputs": [],
   "source": [
    "# ------------------------------------------------------\n",
    "# ENABLES CHINESE CHARACTERS TO BE VIEWABLE ON GRAPHS  |\n",
    "# -----------------------------------------------------\n",
    "\n",
    "mpl.rcParams['font.sans-serif'] = ['STHeiti']\n",
    "mpl.rcParams['font.serif'] = ['STHeiti']"
   ]
  },
  {
   "cell_type": "code",
   "execution_count": 12,
   "metadata": {},
   "outputs": [],
   "source": [
    "# -----------------------------------------------------------------\n",
    "# GETTING THE LONGITUDE A& LATITUDE DATA FROM THE 'events' TABLE  |\n",
    "# ----------------------------------------------------------------\n",
    "\n",
    "longitude = events.longitude.values.compute()\n",
    "latitude = events.latitude.values.compute()"
   ]
  },
  {
   "cell_type": "code",
   "execution_count": 13,
   "metadata": {},
   "outputs": [
    {
     "data": {
      "image/png": "[encoded data removed]",
      "text/plain": [
       "<Figure size 1296x576 with 1 Axes>"
      ]
     },
     "metadata": {},
     "output_type": "display_data"
    }
   ],
   "source": [
    "# -------------\n",
    "# CREATE MAP  |\n",
    "# ------------\n",
    "\n",
    "fig, ax = plt.subplots(figsize=(18, 8))\n",
    "\n",
    "m1 = Basemap(projection = 'merc',\n",
    "             llcrnrlat = 0,\n",
    "             urcrnrlat = 60,\n",
    "             llcrnrlon = 50,\n",
    "             urcrnrlon = 160,\n",
    "             lat_ts = 0,\n",
    "             resolution = 'c')\n",
    "\n",
    "# -------------------------\n",
    "# DRAWING MAP BACKGROUND  |\n",
    "# ------------------------\n",
    "\n",
    "m1.fillcontinents(color = 'yellowgreen', lake_color = 'lightskyblue')\n",
    "m1.drawmapboundary(fill_color = 'lightskyblue')\n",
    "m1.drawcountries(linewidth = 0.1, color = 'gainsboro')\n",
    "\n",
    "# ----------------\n",
    "# PLOT THE DATA  |\n",
    "# ---------------\n",
    "\n",
    "mxy = m1(longitude, latitude)\n",
    "m1.scatter(mxy[0], mxy[1], s = 3, c = 'firebrick', lw = 0, alpha = 1, zorder = 5)\n",
    "\n",
    "plt.title('Location of users')\n",
    "plt.show()"
   ]
  },
  {
   "cell_type": "markdown",
   "metadata": {},
   "source": [
    "To get a sense of the geographics of the users, we map the longitude and latitude points provided. As seen in the above map, majority of the data gathered are of users in the eastern part of China (the top 5 most largest cities of China are all located in the eastern region)."
   ]
  },
  {
   "cell_type": "code",
   "execution_count": 14,
   "metadata": {},
   "outputs": [
    {
     "name": "stderr",
     "output_type": "stream",
     "text": [
      "'c' argument looks like a single numeric RGB or RGBA sequence, which should be avoided as value-mapping will have precedence in case its length matches with 'x' & 'y'.  Please use a 2-D array with a single row if you really want to specify the same RGB or RGBA value for all points.\n",
      "'c' argument looks like a single numeric RGB or RGBA sequence, which should be avoided as value-mapping will have precedence in case its length matches with 'x' & 'y'.  Please use a 2-D array with a single row if you really want to specify the same RGB or RGBA value for all points.\n"
     ]
    },
    {
     "data": {
      "text/plain": [
       "Text(0.5, 1.0, 'Distribution of number of apps per device (by gender)')"
      ]
     },
     "execution_count": 14,
     "metadata": {},
     "output_type": "execute_result"
    },
    {
     "data": {
      "image/png": "[encoded data removed]",
      "text/plain": [
       "<Figure size 1296x360 with 1 Axes>"
      ]
     },
     "metadata": {},
     "output_type": "display_data"
    }
   ],
   "source": [
    "# ---------------------------------------\n",
    "# DISTRIBUTION OF APP COUNTS BY GENDER  |\n",
    "# --------------------------------------\n",
    "\n",
    "fig, ax = plt.subplots(figsize = (18, 5))\n",
    "sns.boxenplot(x = 'app_count', y = 'gender', data = gender_info, ax = ax, orient = 'h')\n",
    "plt.title('Distribution of number of apps per device (by gender)')"
   ]
  },
  {
   "cell_type": "markdown",
   "metadata": {},
   "source": [
    "In general, male mobile users have more apps compared to females. Most Chinese men tend to have roughy 10-40 apps while Chinese women have roughly 10-35 apps. There are a few outliers in each gender, those or which have more than 100 apps installed on their devices."
   ]
  },
  {
   "cell_type": "code",
   "execution_count": 15,
   "metadata": {},
   "outputs": [
    {
     "data": {
      "text/plain": [
       "Text(0.5, 1.0, 'Distribution of age (by gender)')"
      ]
     },
     "execution_count": 15,
     "metadata": {},
     "output_type": "execute_result"
    },
    {
     "data": {
      "image/png": "[encoded data removed]",
      "text/plain": [
       "<Figure size 1296x360 with 1 Axes>"
      ]
     },
     "metadata": {},
     "output_type": "display_data"
    }
   ],
   "source": [
    "# --------------------------------\n",
    "# DISTRIBUTION OF AGE BY GENDER  |\n",
    "# -------------------------------\n",
    "\n",
    "fig, ax = plt.subplots(figsize=(18, 5))\n",
    "sns.boxplot(x = 'age', y = 'gender', data = gender_info, ax = ax, orient = 'h')\n",
    "plt.title('Distribution of age (by gender)')"
   ]
  },
  {
   "cell_type": "markdown",
   "metadata": {},
   "source": [
    "From the data collected, the age distribution seem to be relatively symmetrical between males and females."
   ]
  },
  {
   "cell_type": "code",
   "execution_count": 16,
   "metadata": {},
   "outputs": [
    {
     "data": {
      "text/html": [
       "<div>\n",
       "<style scoped>\n",
       "    .dataframe tbody tr th:only-of-type {\n",
       "        vertical-align: middle;\n",
       "    }\n",
       "\n",
       "    .dataframe tbody tr th {\n",
       "        vertical-align: top;\n",
       "    }\n",
       "\n",
       "    .dataframe thead th {\n",
       "        text-align: right;\n",
       "    }\n",
       "</style>\n",
       "<table border=\"1\" class=\"dataframe\">\n",
       "  <thead>\n",
       "    <tr style=\"text-align: right;\">\n",
       "      <th></th>\n",
       "      <th>phone_brand</th>\n",
       "      <th>count</th>\n",
       "    </tr>\n",
       "  </thead>\n",
       "  <tbody>\n",
       "    <tr>\n",
       "      <th>47</th>\n",
       "      <td>小米</td>\n",
       "      <td>17336</td>\n",
       "    </tr>\n",
       "    <tr>\n",
       "      <th>14</th>\n",
       "      <td>三星</td>\n",
       "      <td>13706</td>\n",
       "    </tr>\n",
       "    <tr>\n",
       "      <th>29</th>\n",
       "      <td>华为</td>\n",
       "      <td>13001</td>\n",
       "    </tr>\n",
       "    <tr>\n",
       "      <th>6</th>\n",
       "      <td>OPPO</td>\n",
       "      <td>5802</td>\n",
       "    </tr>\n",
       "    <tr>\n",
       "      <th>12</th>\n",
       "      <td>vivo</td>\n",
       "      <td>5658</td>\n",
       "    </tr>\n",
       "    <tr>\n",
       "      <th>117</th>\n",
       "      <td>魅族</td>\n",
       "      <td>4710</td>\n",
       "    </tr>\n",
       "    <tr>\n",
       "      <th>106</th>\n",
       "      <td>酷派</td>\n",
       "      <td>3349</td>\n",
       "    </tr>\n",
       "    <tr>\n",
       "      <th>91</th>\n",
       "      <td>联想</td>\n",
       "      <td>2695</td>\n",
       "    </tr>\n",
       "    <tr>\n",
       "      <th>109</th>\n",
       "      <td>金立</td>\n",
       "      <td>1124</td>\n",
       "    </tr>\n",
       "    <tr>\n",
       "      <th>1</th>\n",
       "      <td>HTC</td>\n",
       "      <td>1015</td>\n",
       "    </tr>\n",
       "  </tbody>\n",
       "</table>\n",
       "</div>"
      ],
      "text/plain": [
       "    phone_brand  count\n",
       "47           小米  17336\n",
       "14           三星  13706\n",
       "29           华为  13001\n",
       "6          OPPO   5802\n",
       "12         vivo   5658\n",
       "117          魅族   4710\n",
       "106          酷派   3349\n",
       "91           联想   2695\n",
       "109          金立   1124\n",
       "1           HTC   1015"
      ]
     },
     "execution_count": 16,
     "metadata": {},
     "output_type": "execute_result"
    }
   ],
   "source": [
    "# -------------------------------------\n",
    "# GETTING COUNTS OF EACH PHONE BRAND  |\n",
    "# ------------------------------------\n",
    "\n",
    "phone = dd.merge(train, phone_brand_model, on = 'device_id', how = 'inner').compute()\n",
    "phone['count'] = \"\"\n",
    "phone_brand = phone.groupby('phone_brand')['count'].count().reset_index()\n",
    "\n",
    "top10_brands = phone_brand.nlargest(n = 10, columns = 'count')\n",
    "top10_brands"
   ]
  },
  {
   "cell_type": "code",
   "execution_count": 17,
   "metadata": {},
   "outputs": [
    {
     "data": {
      "text/plain": [
       "Text(0.5, 1.0, 'Top 10 phone brands in China')"
      ]
     },
     "execution_count": 17,
     "metadata": {},
     "output_type": "execute_result"
    },
    {
     "data": {
      "image/png": "[encoded data removed]",
      "text/plain": [
       "<Figure size 1080x504 with 1 Axes>"
      ]
     },
     "metadata": {},
     "output_type": "display_data"
    }
   ],
   "source": [
    "# ----------------------------------------------\n",
    "# PLOTTING MOST POPULAR PHONE BRANDS IN CHINA  |\n",
    "# ---------------------------------------------\n",
    "\n",
    "fig, ax = plt.subplots(figsize=(15, 7))\n",
    "sns.barplot(x = 'phone_brand', y = 'count', data = top10_brands, palette = 'pastel')\n",
    "plt.title('Top 10 phone brands in China')"
   ]
  },
  {
   "cell_type": "markdown",
   "metadata": {},
   "source": [
    "Translation of the phone brands:\n",
    "\n",
    "- 小米 Xiaomi\n",
    "- 三星 Samsung\n",
    "- 华为 Huawei\n",
    "- OPPO\n",
    "- vivo\n",
    "- 魅族 Meizu\n",
    "- 酷派 Coolpad\n",
    "- 联想 Lenovo\n",
    "- 金立 Gionee\n",
    "- HTC\n",
    "\n",
    "The 3 most popular brands of mobile phones in the dataset are Xiaomi, Samsung, and Huawei, which lead by a great amount. Xiao is, in this dataset, the most popular cellular phone brand in eastern China. The amount of Huawei devices is slightly lower than the amount of Samsung devices. Let's see if Chinese males and females have similar preferences in phone brands."
   ]
  },
  {
   "cell_type": "code",
   "execution_count": 18,
   "metadata": {},
   "outputs": [
    {
     "data": {
      "text/plain": [
       "<matplotlib.axes._subplots.AxesSubplot at 0x127a47e80>"
      ]
     },
     "execution_count": 18,
     "metadata": {},
     "output_type": "execute_result"
    },
    {
     "data": {
      "image/png": "[encoded data removed]",
      "text/plain": [
       "<Figure size 1080x432 with 2 Axes>"
      ]
     },
     "metadata": {},
     "output_type": "display_data"
    }
   ],
   "source": [
    "# -----------------------------------------------------\n",
    "# SPLITTING PHONE BRANDS OF USERS' DEVICES BY GENDER  |\n",
    "# ----------------------------------------------------\n",
    "\n",
    "male = phone[phone.gender == 'M']\n",
    "male['count'] = \"\"\n",
    "male_phone_brands = male.groupby('phone_brand')['count'].count().reset_index()\n",
    "\n",
    "female = phone[phone.gender == 'F']\n",
    "female['count'] = \"\"\n",
    "female_phone_brands = female.groupby('phone_brand')['count'].count().reset_index()\n",
    "\n",
    "# --------------------------------------------\n",
    "# GETTING THE TOP 10 PHONE BRANDS BY GENDER  |\n",
    "# -------------------------------------------\n",
    "\n",
    "top10_male_brands = male_phone_brands.nlargest(n = 10, columns = 'count')\n",
    "top10_female_brands = female_phone_brands.nlargest(n = 10, columns = 'count')\n",
    "\n",
    "# ------------------------------------------------------------------------\n",
    "# CREATE OWN COLOR PALETTE SO EACH PHONE BRAND IS CORRELATED TO A COLOR  |\n",
    "# -----------------------------------------------------------------------\n",
    "\n",
    "c = top10_male_brands.phone_brand.values\n",
    "palette = {c[0]: 'lightcoral', c[1]: 'orange', c[2]: 'yellow', c[3]: 'lightgreen', \n",
    "           c[4]: 'skyblue', c[5]: 'thistle', c[6]: 'pink', c[7]: 'lightgray', \n",
    "           c[8]: 'wheat', c[9]: 'lightsteelblue'}\n",
    "\n",
    "# -----------------------------------------\n",
    "# PLOTTING TOP 10 PHONE BRANDS BY GENDER  |\n",
    "# ----------------------------------------\n",
    "\n",
    "f, (ax1, ax2) = plt.subplots(1, 2, figsize=(15, 6), sharey = True)\n",
    "sns.barplot(x = 'phone_brand', y = 'count', data = top10_male_brands, palette = palette, ax = ax1)\n",
    "plt.xticks = top10_male_brands.phone_brand.values\n",
    "sns.barplot(x = 'phone_brand', y = 'count', data = top10_female_brands, palette = palette, ax = ax2)"
   ]
  },
  {
   "cell_type": "markdown",
   "metadata": {
    "scrolled": false
   },
   "source": [
    "Huawei devices (orange) are more popular than Samsung devices (yellow) to the male population of the data, while the opposite is true for females. Also, Meizu devices (green) attract far more Chinese males consumers than females.\n",
    "\n",
    "From the graph, it seems there are a lot more data gathered from males than females. Let's confirm."
   ]
  },
  {
   "cell_type": "code",
   "execution_count": 19,
   "metadata": {},
   "outputs": [
    {
     "data": {
      "text/plain": [
       "Text(0.5, 1.0, 'Gender distribution of data')"
      ]
     },
     "execution_count": 19,
     "metadata": {},
     "output_type": "execute_result"
    },
    {
     "data": {
      "image/png": "[encoded data removed]",
      "text/plain": [
       "<Figure size 504x504 with 1 Axes>"
      ]
     },
     "metadata": {},
     "output_type": "display_data"
    }
   ],
   "source": [
    "# ---------------------------------------------------\n",
    "# GETTING TOTAL NUMBER OF EACH GENDER FROM DATASET  |\n",
    "# --------------------------------------------------\n",
    "\n",
    "men = len(train[train.gender == 'M'].compute())\n",
    "women = len(train[train.gender == 'F'].compute())\n",
    "\n",
    "# -----------\n",
    "# PLOT DATA |\n",
    "# ----------\n",
    "\n",
    "fig, ax = plt.subplots(figsize=(7, 7))\n",
    "sns.barplot(x = ['male', 'female'], y = [men, women], data = top10_brands, palette = 'pastel')\n",
    "plt.title('Gender distribution of data')"
   ]
  },
  {
   "cell_type": "markdown",
   "metadata": {},
   "source": [
    "Indeed, the dataset contains far more male mobile users -- nearly two times more than females. It is worth noting, though, that China has a higher male population than females; Chinese men outnumber women by more than 30 million. This is in part due to the country's previous one-child policy."
   ]
  },
  {
   "cell_type": "markdown",
   "metadata": {},
   "source": [
    "## Inferential Stats"
   ]
  },
  {
   "cell_type": "markdown",
   "metadata": {},
   "source": [
    "- **Null hypothesis:** There is no correlation between age and number of apps\n",
    "- **Alternate hypothesis:** There is a correlation between age and number of apps\n",
    "- **Significance level:** 0.05"
   ]
  },
  {
   "cell_type": "code",
   "execution_count": 20,
   "metadata": {},
   "outputs": [
    {
     "name": "stdout",
     "output_type": "stream",
     "text": [
      "Pearson correlation coefficient: 0.005390476428497901\n",
      "Pearson p-value: 0.5745930595293385 \n",
      "\n",
      "Pearson correlation coefficient: 0.01388534531993987\n",
      "Pearson p-value: 0.2779909709621335\n"
     ]
    }
   ],
   "source": [
    "# ------------------------------------\n",
    "# FILTERING 'gender_info' BY GENDER  |\n",
    "# -----------------------------------\n",
    "\n",
    "male = gender_info[gender_info.gender == 'M']\n",
    "female = gender_info[gender_info.gender == 'F']\n",
    "\n",
    "# ------------------------------------------------------------\n",
    "# GETTING CORRELATION COEFFICIENT & P-VALUE FOR EACH GENDER  |\n",
    "# -----------------------------------------------------------\n",
    "\n",
    "m_scipy_r, m_scipy_p = stats.pearsonr(male.age, male.app_count)\n",
    "f_scipy_r, f_scipy_p = stats.pearsonr(female.age, female.app_count)\n",
    "\n",
    "# ----------------\n",
    "# PRINT RESULTS  |\n",
    "# ---------------\n",
    "\n",
    "print(\"Pearson correlation coefficient:\", m_scipy_r)\n",
    "print(\"Pearson p-value:\", m_scipy_p, '\\n')\n",
    "print(\"Pearson correlation coefficient:\", f_scipy_r)\n",
    "print(\"Pearson p-value:\", f_scipy_p)"
   ]
  },
  {
   "cell_type": "markdown",
   "metadata": {},
   "source": [
    "The p-values of both gender groups are greater than the chosen significance level. The null hypothesis is not rejected. Age has no correlation to the amount of apps installed on a device."
   ]
  },
  {
   "cell_type": "code",
   "execution_count": 21,
   "metadata": {},
   "outputs": [
    {
     "name": "stderr",
     "output_type": "stream",
     "text": [
      "/Users/vwu/miniconda3/lib/python3.6/site-packages/scipy/stats/stats.py:1713: FutureWarning: Using a non-tuple sequence for multidimensional indexing is deprecated; use `arr[tuple(seq)]` instead of `arr[seq]`. In the future this will be interpreted as an array index, `arr[np.array(seq)]`, which will result either in an error or a different result.\n",
      "  return np.add.reduce(sorted[indexer] * weights, axis=axis) / sumval\n"
     ]
    },
    {
     "data": {
      "image/png": "[encoded data removed]",
      "text/plain": [
       "<Figure size 1080x432 with 4 Axes>"
      ]
     },
     "metadata": {},
     "output_type": "display_data"
    }
   ],
   "source": [
    "# -----------------------------------------------------------------\n",
    "# PLOTTING DISTRIBUTION OF 'age' AND 'app_count' FOR EACH GENDER  |\n",
    "# ----------------------------------------------------------------\n",
    "\n",
    "f, ((ax1, ax2), (ax3, ax4)) = plt.subplots(2, 2, figsize=(15, 6))\n",
    "sns.distplot(male.age, ax = ax1)\n",
    "sns.distplot(female.age, ax = ax2)\n",
    "sns.distplot(male.app_count, ax = ax3)\n",
    "sns.distplot(male.app_count, ax = ax4)\n",
    "plt.show()"
   ]
  },
  {
   "cell_type": "markdown",
   "metadata": {},
   "source": [
    "As can be seen from the distribution plots above, none of the distributions of each gender's 'age' and 'app_count' are normal. A nonparametric test is used to compare whether 'age' and 'app_count' between males and females have the same shape. Below, the Mann Whitney U test is performed.\n",
    "\n",
    "- **Null hypothesis:** The two populations are equal/have the same shape\n",
    "- **Alternate hypothesis:** There two populations are not equal/do not have the same shape\n",
    "- **Significance level:** 0.05"
   ]
  },
  {
   "cell_type": "code",
   "execution_count": 22,
   "metadata": {},
   "outputs": [
    {
     "name": "stdout",
     "output_type": "stream",
     "text": [
      "Mann Whitney U p-value (age): 0.05365886631268518\n",
      "Mann Whitney U p-value (number of apps): 1.4108724351737035e-13\n"
     ]
    }
   ],
   "source": [
    "# ---------------------\n",
    "# MAN WHITNEY U TEST  |\n",
    "# --------------------\n",
    "\n",
    "u_stats_age, pval_age = stats.mannwhitneyu(male.age, female.age)\n",
    "u_stats_app, pval_app = stats.mannwhitneyu(male.app_count, female.app_count)\n",
    "\n",
    "# -----------------\n",
    "# PRINT P-VALUES  |\n",
    "# ----------------\n",
    "\n",
    "print('Mann Whitney U p-value (age):', pval_age)\n",
    "print('Mann Whitney U p-value (number of apps):', pval_app)"
   ]
  },
  {
   "cell_type": "markdown",
   "metadata": {},
   "source": [
    "Based on the boxen and box plots in the data visualization section above, we see that the distributions are similar between both gender groups. Based on the p-values, the distribution of age between Chinese men and women are not similar. Looking at the box plot above, this may be a result of the outliers present in both groups.\n",
    "\n",
    "However, it seems that the distribution of number of apps per device have the same shape. The p-value is significantly smaller than the significance level."
   ]
  },
  {
   "cell_type": "markdown",
   "metadata": {},
   "source": [
    "## Machine learning"
   ]
  },
  {
   "cell_type": "code",
   "execution_count": 23,
   "metadata": {},
   "outputs": [
    {
     "data": {
      "text/html": [
       "<div>\n",
       "<style scoped>\n",
       "    .dataframe tbody tr th:only-of-type {\n",
       "        vertical-align: middle;\n",
       "    }\n",
       "\n",
       "    .dataframe tbody tr th {\n",
       "        vertical-align: top;\n",
       "    }\n",
       "\n",
       "    .dataframe thead th {\n",
       "        text-align: right;\n",
       "    }\n",
       "</style>\n",
       "<table border=\"1\" class=\"dataframe\">\n",
       "  <thead>\n",
       "    <tr style=\"text-align: right;\">\n",
       "      <th></th>\n",
       "      <th>device_id</th>\n",
       "      <th>group</th>\n",
       "      <th>app_count</th>\n",
       "      <th>phone</th>\n",
       "    </tr>\n",
       "  </thead>\n",
       "  <tbody>\n",
       "    <tr>\n",
       "      <th>0</th>\n",
       "      <td>-8260683887967679142</td>\n",
       "      <td>M32-38</td>\n",
       "      <td>53</td>\n",
       "      <td>小米 MI 2</td>\n",
       "    </tr>\n",
       "    <tr>\n",
       "      <th>1</th>\n",
       "      <td>7477216237379271436</td>\n",
       "      <td>F33-42</td>\n",
       "      <td>26</td>\n",
       "      <td>华为 荣耀6 plus</td>\n",
       "    </tr>\n",
       "    <tr>\n",
       "      <th>2</th>\n",
       "      <td>6352067998666467520</td>\n",
       "      <td>M32-38</td>\n",
       "      <td>19</td>\n",
       "      <td>华为 荣耀畅玩4X</td>\n",
       "    </tr>\n",
       "    <tr>\n",
       "      <th>3</th>\n",
       "      <td>8026504930081700361</td>\n",
       "      <td>M23-26</td>\n",
       "      <td>31</td>\n",
       "      <td>小米 MI 4</td>\n",
       "    </tr>\n",
       "    <tr>\n",
       "      <th>4</th>\n",
       "      <td>-7271319853104672050</td>\n",
       "      <td>M27-28</td>\n",
       "      <td>34</td>\n",
       "      <td>三星 Galaxy Note 3</td>\n",
       "    </tr>\n",
       "  </tbody>\n",
       "</table>\n",
       "</div>"
      ],
      "text/plain": [
       "             device_id   group  app_count             phone\n",
       "0 -8260683887967679142  M32-38         53           小米 MI 2\n",
       "1  7477216237379271436  F33-42         26       华为 荣耀6 plus\n",
       "2  6352067998666467520  M32-38         19         华为 荣耀畅玩4X\n",
       "3  8026504930081700361  M23-26         31           小米 MI 4\n",
       "4 -7271319853104672050  M27-28         34  三星 Galaxy Note 3"
      ]
     },
     "execution_count": 23,
     "metadata": {},
     "output_type": "execute_result"
    }
   ],
   "source": [
    "# ------------------------------------------------------------------------\n",
    "# GETTING DATASET IN DESIRED FORMAT IN PREPARATION FOR MACHINE LEARNING  |\n",
    "# -----------------------------------------------------------------------\n",
    "\n",
    "X = gender_info.copy()\n",
    "X['phone'] = X.phone_brand + ' ' + X.device_model\n",
    "X = X.drop(['gender', 'age', 'phone_brand', 'device_model'], axis = 1)\n",
    "\n",
    "X.head()"
   ]
  },
  {
   "cell_type": "markdown",
   "metadata": {},
   "source": [
    "The goal is to predict the age and gender group of a mobile user. In this attempt, 'phone_brand' and 'device_model' are combined into a single column. This new column, 'phone', and 'app_count' are used to predict the demographic groups of users."
   ]
  },
  {
   "cell_type": "code",
   "execution_count": 24,
   "metadata": {},
   "outputs": [
    {
     "name": "stdout",
     "output_type": "stream",
     "text": [
      "RANDOM FOREST CLASSIFIER\n",
      "------------------------\n",
      "F1 score: 0.06398946675444371\n"
     ]
    }
   ],
   "source": [
    "# -------------------------------------------------------------------------------------\n",
    "# INITIALIZE RANDOM FOREST CLASSIFER & FEATURE HASH (TO ENCODE CATEGORICAL FEATURES)  |\n",
    "# ------------------------------------------------------------------------------------\n",
    "\n",
    "rfc = RandomForestClassifier()\n",
    "h = FeatureHasher(n_features = 1600, input_type = 'string')\n",
    "\n",
    "X_predictor = X.drop(['device_id', 'group'], axis = 1)\n",
    "\n",
    "# ------------------\n",
    "# HASHING 'phone'  |\n",
    "# -----------------\n",
    "\n",
    "phones = X.phone\n",
    "phones_hash = h.transform(phones.values)\n",
    "phones_hash = pd.DataFrame(phones_hash.toarray())\n",
    "X_predictor = pd.concat([X_predictor, phones_hash], axis=1)\n",
    "X_predictor = X_predictor.drop(['phone'], axis = 1)\n",
    "\n",
    "# ----------------------------------------------\n",
    "# ENCODE 'group' (ALSO A CATEGORICAL FEATURE)  |\n",
    "# ---------------------------------------------\n",
    "\n",
    "X_target = pd.get_dummies(X.group)\n",
    "\n",
    "# --------------------------------------------------\n",
    "# SPLIT INTO TRAINING/TEST SETS & FIT AND PREDICT  |\n",
    "# -------------------------------------------------\n",
    "\n",
    "X_train, X_test, y_train, y_test = train_test_split(X_predictor, X_target, test_size = 0.3, random_state = 42)\n",
    "\n",
    "rfc.fit(X_train, y_train)\n",
    "y_pred = rfc.predict(X_test)\n",
    "\n",
    "# -------------------\n",
    "# PRINTING RESULTS  |\n",
    "# ------------------\n",
    "\n",
    "print('RANDOM FOREST CLASSIFIER')\n",
    "print('------------------------')\n",
    "print('F1 score:', f1_score(y_test, y_pred, average = 'micro'))"
   ]
  },
  {
   "cell_type": "markdown",
   "metadata": {},
   "source": [
    "This F1 score is close to 0, indicating the model does not predict the demographic group well.\n",
    "\n",
    "**Note:** A feature that *should* be useful in enhancing the model's performance is the category/categories of apps. As an example, females are highly likely to have more beauty apps installed than males. However, I currently do not have experience with dealing with multi-label features or NLP, which would be helpful in handling the 900+ app categories (836 of which are unique values). This project will be revisited and updated as I gain more knowledge in dealing with text data."
   ]
  }
 ],
 "metadata": {
  "kernelspec": {
   "display_name": "Python 3",
   "language": "python",
   "name": "python3"
  },
  "language_info": {
   "codemirror_mode": {
    "name": "ipython",
    "version": 3
   },
   "file_extension": ".py",
   "mimetype": "text/x-python",
   "name": "python",
   "nbconvert_exporter": "python",
   "pygments_lexer": "ipython3",
   "version": "3.6.7"
  }
 },
 "nbformat": 4,
 "nbformat_minor": 2
}
