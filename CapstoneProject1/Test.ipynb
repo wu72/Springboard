{
 "cells": [
  {
   "cell_type": "code",
   "execution_count": 2,
   "metadata": {},
   "outputs": [],
   "source": [
    "import pandas as pd\n",
    "import matplotlib.pyplot as plt\n",
    "import glob\n",
    "import numpy as np\n",
    "import datetime"
   ]
  },
  {
   "cell_type": "code",
   "execution_count": 39,
   "metadata": {},
   "outputs": [
    {
     "data": {
      "text/html": [
       "<div>\n",
       "<style scoped>\n",
       "    .dataframe tbody tr th:only-of-type {\n",
       "        vertical-align: middle;\n",
       "    }\n",
       "\n",
       "    .dataframe tbody tr th {\n",
       "        vertical-align: top;\n",
       "    }\n",
       "\n",
       "    .dataframe thead th {\n",
       "        text-align: right;\n",
       "    }\n",
       "</style>\n",
       "<table border=\"1\" class=\"dataframe\">\n",
       "  <thead>\n",
       "    <tr style=\"text-align: right;\">\n",
       "      <th>Food</th>\n",
       "      <th>Calories</th>\n",
       "      <th>Carbs</th>\n",
       "      <th>Fat</th>\n",
       "      <th>Fiber</th>\n",
       "      <th>Protein</th>\n",
       "      <th>Sodium</th>\n",
       "      <th>Water</th>\n",
       "    </tr>\n",
       "    <tr>\n",
       "      <th>Meal</th>\n",
       "      <th></th>\n",
       "      <th></th>\n",
       "      <th></th>\n",
       "      <th></th>\n",
       "      <th></th>\n",
       "      <th></th>\n",
       "      <th></th>\n",
       "    </tr>\n",
       "  </thead>\n",
       "  <tbody>\n",
       "    <tr>\n",
       "      <th>Daily Totals</th>\n",
       "      <td>699</td>\n",
       "      <td>93 g</td>\n",
       "      <td>26 g</td>\n",
       "      <td>16 g</td>\n",
       "      <td>32 g</td>\n",
       "      <td>612 mg</td>\n",
       "      <td>0 fl oz</td>\n",
       "    </tr>\n",
       "  </tbody>\n",
       "</table>\n",
       "</div>"
      ],
      "text/plain": [
       "Food         Calories Carbs   Fat Fiber Protein  Sodium    Water\n",
       "Meal                                                            \n",
       "Daily Totals      699  93 g  26 g  16 g    32 g  612 mg  0 fl oz"
      ]
     },
     "execution_count": 39,
     "metadata": {},
     "output_type": "execute_result"
    }
   ],
   "source": [
    "# extract data in Excel file into dataframe\n",
    "xls = pd.ExcelFile('Fitbit/2017-07.xls')\n",
    "df2 = pd.read_excel(xls, 'Foods')\n",
    "\n",
    "# 'dates' stores the dates (YYYY-MM-DD) that contain food entries\n",
    "# 'food_logs' stores file names that contai food data\n",
    "dates = []\n",
    "food_logs = []\n",
    "\n",
    "# if food entry is entered for that day, store file name and date into \n",
    "# their respective lists\n",
    "for day in df2.values:\n",
    "    if day[1] != '0':\n",
    "        dates.append(day[0])\n",
    "        foodLogSheetName = 'Food Log ' + day[0].replace('-', '')\n",
    "        food_logs.append(foodLogSheetName)\n",
    "\n",
    "# --------------------------------------------------------------\n",
    "\n",
    "# dump Food Log sheet into a dataframe\n",
    "# drop all rows that have all NaN values\n",
    "df = pd.read_excel(xls, sheet_name='Food Log 20170706')\n",
    "df.dropna(how='all', inplace=True)\n",
    "\n",
    "# Forward fill for 'Meal' column -- CLEANING DATA / GETTING DATAFRAME TO LOOK NICE\n",
    "df['Meal'] = df['Meal'].fillna(method='ffill')\n",
    "df = df.reset_index(drop=True)\n",
    "\n",
    "# stores index of data from 'df' for...\n",
    "daily_total_index = []\n",
    "\n",
    "# if the cell value in the 'Meal' column is 'Daily Totals', store the index of that row\n",
    "for i in df.index:\n",
    "    if df['Meal'][i] == 'Daily Totals':\n",
    "        daily_total_index.append(i)\n",
    "\n",
    "# create a DataFrame 'daily' to store macros information\n",
    "# NOTE: 'Daily Totals' store info about a user's macros for the day\n",
    "#       so should be placed in a separate DataFrame from food data\n",
    "daily = pd.DataFrame()\n",
    "daily = df.iloc[daily_total_index[1]:daily_total_index[-1]+1]\n",
    "daily = daily.pivot(index='Meal', columns='Food', values='Calories')\n",
    "\n",
    "# drop 'Daily Totals' data from 'df'\n",
    "df = df.drop(index=daily_total_index)\n",
    "daily"
   ]
  },
  {
   "cell_type": "code",
   "execution_count": null,
   "metadata": {},
   "outputs": [],
   "source": []
  }
 ],
 "metadata": {
  "kernelspec": {
   "display_name": "Python 3",
   "language": "python",
   "name": "python3"
  },
  "language_info": {
   "codemirror_mode": {
    "name": "ipython",
    "version": 3
   },
   "file_extension": ".py",
   "mimetype": "text/x-python",
   "name": "python",
   "nbconvert_exporter": "python",
   "pygments_lexer": "ipython3",
   "version": "3.6.6"
  }
 },
 "nbformat": 4,
 "nbformat_minor": 2
}
