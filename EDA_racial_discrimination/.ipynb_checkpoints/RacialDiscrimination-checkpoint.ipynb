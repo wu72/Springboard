{
 "cells": [
  {
   "cell_type": "markdown",
   "metadata": {},
   "source": [
    "# Examining Racial Discrimination in the US Job Market\n",
    "\n",
    "### Background\n",
    "Racial discrimination continues to be pervasive in cultures throughout the world. Researchers examined the level of racial discrimination in the United States labor market by randomly assigning identical résumés to black-sounding or white-sounding names and observing the impact on requests for interviews from employers.\n",
    "\n",
    "### Data\n",
    "In the dataset provided, each row represents a resume. The 'race' column has two values, 'b' and 'w', indicating black-sounding and white-sounding. The column 'call' has two values, 1 and 0, indicating whether the resume received a call from employers or not.\n",
    "\n",
    "Note that the 'b' and 'w' values in race are assigned randomly to the resumes when presented to the employer."
   ]
  },
  {
   "cell_type": "markdown",
   "metadata": {},
   "source": [
    "<div class=\"span5 alert alert-info\">\n",
    "### Exercises\n",
    "You will perform a statistical analysis to establish whether race has a significant impact on the rate of callbacks for resumes.\n",
    "\n",
    "Answer the following questions **in this notebook below and submit to your Github account**. \n",
    "\n",
    "   1. What test is appropriate for this problem? Does CLT apply?\n",
    "   2. What are the null and alternate hypotheses?\n",
    "   3. Compute margin of error, confidence interval, and p-value. Try using both the bootstrapping and the frequentist statistical approaches.\n",
    "   4. Write a story describing the statistical significance in the context or the original problem.\n",
    "   5. Does your analysis mean that race/name is the most important factor in callback success? Why or why not? If not, how would you amend your analysis?\n",
    "\n",
    "You can include written notes in notebook cells using Markdown: \n",
    "   - In the control panel at the top, choose Cell > Cell Type > Markdown\n",
    "   - Markdown syntax: http://nestacms.com/docs/creating-content/markdown-cheat-sheet\n",
    "\n",
    "\n",
    "#### Resources\n",
    "+ Experiment information and data source: http://www.povertyactionlab.org/evaluation/discrimination-job-market-united-states\n",
    "+ Scipy statistical methods: http://docs.scipy.org/doc/scipy/reference/stats.html \n",
    "+ Markdown syntax: http://nestacms.com/docs/creating-content/markdown-cheat-sheet\n",
    "+ Formulas for the Bernoulli distribution: https://en.wikipedia.org/wiki/Bernoulli_distribution\n",
    "</div>\n",
    "****"
   ]
  },
  {
   "cell_type": "code",
   "execution_count": 1,
   "metadata": {},
   "outputs": [],
   "source": [
    "import pandas as pd\n",
    "import numpy as np\n",
    "from scipy import stats\n",
    "import seaborn as sns\n",
    "import matplotlib.pyplot as plt\n",
    "import math"
   ]
  },
  {
   "cell_type": "code",
   "execution_count": 2,
   "metadata": {},
   "outputs": [],
   "source": [
    "data = pd.io.stata.read_stata('data/us_job_market_discrimination.dta')"
   ]
  },
  {
   "cell_type": "markdown",
   "metadata": {},
   "source": [
    "## 1. What test is appropriate for this problem? Does CLT apply?"
   ]
  },
  {
   "cell_type": "markdown",
   "metadata": {},
   "source": [
    "We are only interested in whether or not applicants receive callbacks. The 'call' column contains binary data, so we will use a binomial distribution. Also, as we have two separate populations, we will be using a two sample test. Lastly, because our each of the population size is greater than 30, we will be using a z-test.\n",
    "\n",
    "The Central Limit Theorem still applies because we have a large enough sample size (4000+ resumes)."
   ]
  },
  {
   "cell_type": "markdown",
   "metadata": {},
   "source": [
    "## 2. What are the null and alternate hypotheses?"
   ]
  },
  {
   "cell_type": "markdown",
   "metadata": {},
   "source": [
    "**Null hypothesis:** Race does not have an impact on the rate of callbacks for resumes.\n",
    "\n",
    "**Alternate hypothesis:** Race does have an impact on the rate of callbacks for resumes."
   ]
  },
  {
   "cell_type": "markdown",
   "metadata": {},
   "source": [
    "## 3. Compute margin of error, confidence interval, and p-value. Try using both the bootstrapping and the frequentist statistical approaches."
   ]
  },
  {
   "cell_type": "markdown",
   "metadata": {},
   "source": [
    "We will be using a 95% confidence level to calculate the margin of error, confidence interval, and p-value."
   ]
  },
  {
   "cell_type": "markdown",
   "metadata": {},
   "source": [
    "### Bootstrapping"
   ]
  },
  {
   "cell_type": "code",
   "execution_count": 3,
   "metadata": {},
   "outputs": [],
   "source": [
    "def calculate_prob(data):\n",
    "    \"\"\"Calculate probability (value / size of array)\"\"\"\n",
    "    \n",
    "    size = len(data)\n",
    "    \n",
    "    # Initialize empty array\n",
    "    prob_array = np.empty(size)\n",
    "    \n",
    "    # Calculate probability and store in array\n",
    "    for i, x in enumerate(data):\n",
    "        prob_array[i] = x / size\n",
    "        \n",
    "    return prob_array"
   ]
  },
  {
   "cell_type": "code",
   "execution_count": 4,
   "metadata": {},
   "outputs": [
    {
     "name": "stdout",
     "output_type": "stream",
     "text": [
      "Margin of error: 0.015255406349886438\n",
      "Confidence interval: [0.017248459958932233, 0.04722792607802875]\n",
      "P-value: 0.0\n"
     ]
    }
   ],
   "source": [
    "w = data[data.race=='w']\n",
    "b = data[data.race=='b']\n",
    "\n",
    "# TOTAL NUMBER OF CALLBACKS\n",
    "w_sum = sum(w.call)\n",
    "b_sum = sum(b.call)\n",
    "\n",
    "\n",
    "# CALLBACK PROBABILITY\n",
    "w_prob = w_sum / len(w)\n",
    "b_prob = b_sum / len(b)\n",
    "prob_diff = w_prob - b_prob\n",
    "\n",
    "\n",
    "# GENERATING SAMPLES\n",
    "w_sample = np.random.binomial(len(w), w_prob, size=len(w))\n",
    "b_sample = np.random.binomial(len(b), b_prob, size=len(b))\n",
    "\n",
    "\n",
    "# CALCULATE CALLBACK PROBABILITIES ON ABOVE SAMPLES\n",
    "w_sample_prob = calculate_prob(w_sample)\n",
    "b_sample_prob = calculate_prob(b_sample)\n",
    "prob_differences = w_sample_prob - b_sample_prob\n",
    "\n",
    "\n",
    "# SHIFT BOTH ARRAYS SO THEY HAVE THE SAME MEAN (SINCE WE ARE ASSUMING THEY HAVE IDENTICAL CALLBACK PROBABILITIES)\n",
    "mean = np.mean(prob_differences)\n",
    "w_shifted = w_sample_prob - np.mean(w_sample_prob) + mean\n",
    "b_shifted = b_sample_prob - np.mean(b_sample_prob) + mean\n",
    "prob_diff_shifted = w_shifted - b_shifted\n",
    "\n",
    "\n",
    "# MARGIN OF ERROR\n",
    "se = math.sqrt((w_prob * (1 - w_prob)) / len(w) + (b_prob * (1 - b_prob)) / len(b))\n",
    "margin_error = 1.96 * se\n",
    "print('Margin of error:', margin_error)\n",
    "\n",
    "\n",
    "# CONSTRUCT CONFIDENCE INTERVAL\n",
    "conf_int = np.percentile(prob_differences, [2.5, 97.5])\n",
    "print('Confidence interval:', list(conf_int))\n",
    "\n",
    "\n",
    "# FIND P-VALUE\n",
    "p = np.sum(prob_diff_shifted >= prob_diff) / len(prob_diff_shifted)\n",
    "print('P-value:', p)"
   ]
  },
  {
   "cell_type": "markdown",
   "metadata": {},
   "source": [
    "### Frequentist statistical testing"
   ]
  },
  {
   "cell_type": "code",
   "execution_count": 5,
   "metadata": {},
   "outputs": [
    {
     "name": "stdout",
     "output_type": "stream",
     "text": [
      "Margin of error:  0.015255406349886438\n",
      "Confidence interval: [ 0.016777447859559147 , 0.047288260559332024 ]\n",
      "P-value: 3.862565207522622e-05\n"
     ]
    }
   ],
   "source": [
    "# GET P-VALUE\n",
    "std_err = math.sqrt((w_prob * (1 - w_prob)) / len(w) + (b_prob * (1 - b_prob)) / len(b))\n",
    "mrgn = 1.96 * std_err\n",
    "z = (prob_diff - 0) / std_err\n",
    "p = stats.norm.sf(abs(z)) * 2\n",
    "\n",
    "print('Margin of error: ', mrgn)\n",
    "print('Confidence interval: [', prob_diff - mrgn, ',', prob_diff + mrgn, ']')\n",
    "print('P-value:', p)"
   ]
  },
  {
   "cell_type": "markdown",
   "metadata": {},
   "source": [
    "## 4. Write a story describing the statistical significance in the context or the original problem."
   ]
  },
  {
   "cell_type": "markdown",
   "metadata": {},
   "source": [
    "While it is no surprise racial discrimination is still prevalent, we wonder how much of an impact it has on job applications.\n",
    "\n",
    "We have a relatively large sample of resumes collected (4870) and assigned similar resumes to two different racial groups, some to white-sounding names and the remaining to black-sounding names. Looking at just the callback success, we performed a hypothesis test.\n",
    "\n",
    "Assuming race does not impact the probability of receiving a callback, we figure out what is the likelihood of getting the difference in callback probabilities from the sample (about 3.2%). A p-value of 0.00003 informs us the 3.2% difference is extremely unlikely to occur if race does not affect callback success.  The results lead us to believe that unfortunately, racial discrimination is still an issue in the U.S. job market. \n",
    "\n",
    "Having a black-sounding name attached to a resume will decrease the likelihood of the applicant getting callbacks from potential employers."
   ]
  },
  {
   "cell_type": "markdown",
   "metadata": {},
   "source": [
    "## 5. Does your analysis mean that race/name is the most important factor in callback success? Why or why not? If not, how would you amend your analysis?"
   ]
  },
  {
   "cell_type": "markdown",
   "metadata": {},
   "source": [
    "While race does affect callback probabilities, it might not be the only factor that impacts the likelihood of getting a callback. Despite being in the 21st century, gender inequality is still an existing problem. Gender may very well have an impact on callback success as well, especially in STEM fields. Level of education may play a hand too. I would perform hypothesis tests to determine whether sex and level of education have effects on callback probabilities."
   ]
  }
 ],
 "metadata": {
  "kernelspec": {
   "display_name": "Python 3",
   "language": "python",
   "name": "python3"
  },
  "language_info": {
   "codemirror_mode": {
    "name": "ipython",
    "version": 3
   },
   "file_extension": ".py",
   "mimetype": "text/x-python",
   "name": "python",
   "nbconvert_exporter": "python",
   "pygments_lexer": "ipython3",
   "version": "3.6.6"
  }
 },
 "nbformat": 4,
 "nbformat_minor": 2
}
